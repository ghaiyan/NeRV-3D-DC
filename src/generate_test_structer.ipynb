{
 "cells": [
  {
   "cell_type": "code",
   "execution_count": 1,
   "id": "6f798344-4385-4221-a513-cab55c3db60b",
   "metadata": {},
   "outputs": [],
   "source": [
    "# test data\n",
    "import math\n",
    "import numpy as np\n",
    "data = [];\n",
    "# Parametric curve\n",
    "# for t in range(0,2000):\n",
    "#     x = (1 + 0.1 * math.cos(t * 0.5)) * math.cos(0.01 * t);\n",
    "#     y = (1 + 0.1 * math.cos(t * 0.5)) * math.sin(0.01 * t);\n",
    "#     z = 0.001 * t + 0.1 * math.sin(t * 0.5);\n",
    "#     data.append([x, y, z]);\n",
    "\n",
    "for t in range(0,200):\n",
    "  x = (1 + 0.2 * math.cos(0.5 * t)) * math.cos(0.05 * t);\n",
    "  y = (1 + 0.2 * math.cos(0.5 * t)) * math.sin(0.05 * t);\n",
    "  z = 0.01*t + 0.2 * math.sin(0.5 * t);\n",
    "  data.append([x, y, z]);\n",
    "  np.savetxt(\"test200.txt\",data)\n",
    "\n",
    "n = len(data)\n",
    "with open(\"test_small.bed\", \"w\") as out:\n",
    "    for i in range(n):\n",
    "        for j in range(i+1,n):\n",
    "            if i != j:\n",
    "                d = 1 / np.linalg.norm(np.array(data[i]) - np.array(data[j]))\n",
    "            else:\n",
    "                d = 0\n",
    "            out.write(\"\\t\".join((str(i), str(j), str(d))) + \"\\n\")\n",
    "    out.close()"
   ]
  },
  {
   "cell_type": "code",
   "execution_count": 2,
   "id": "e0999082",
   "metadata": {},
   "outputs": [],
   "source": [
    "# test data\n",
    "import math\n",
    "import numpy as np\n",
    "data = [];\n",
    "# Parametric curve\n",
    "for t in range(0,2000):\n",
    "    x = (1 + 0.1 * math.cos(t * 0.5)) * math.cos(0.01 * t);\n",
    "    y = (1 + 0.1 * math.cos(t * 0.5)) * math.sin(0.01 * t);\n",
    "    z = 0.001 * t + 0.1 * math.sin(t * 0.5);\n",
    "    data.append([x, y, z]);\n",
    "    np.savetxt(\"test2000.txt\",data)\n",
    "\n",
    "# for t in range(0,200):\n",
    "#   x = (1 + 0.2 * math.cos(0.5 * t)) * math.cos(0.05 * t);\n",
    "#   y = (1 + 0.2 * math.cos(0.5 * t)) * math.sin(0.05 * t);\n",
    "#   z = 0.01*t + 0.2 * math.sin(0.5 * t);\n",
    "#   data.append([x, y, z]);\n",
    "\n",
    "n = len(data)\n",
    "matrix = np.zeros((n,n))\n",
    "for i in range(n):\n",
    "    for j in range(n):\n",
    "        if i != j:\n",
    "            d = np.linalg.norm(np.array(data[i]) - np.array(data[j]))\n",
    "        else:\n",
    "            d = 0\n",
    "        matrix[i,j] = d\n",
    "np.savetxt(\"test.dist\", matrix)"
   ]
  }
 ],
 "metadata": {
  "interpreter": {
   "hash": "940bfc188b95c2895cccf37f5f8614317018dfbb8c16f02fbdba8646db5d07d3"
  },
  "kernelspec": {
   "display_name": "biye",
   "language": "python",
   "name": "python3"
  },
  "language_info": {
   "codemirror_mode": {
    "name": "ipython",
    "version": 3
   },
   "file_extension": ".py",
   "mimetype": "text/x-python",
   "name": "python",
   "nbconvert_exporter": "python",
   "pygments_lexer": "ipython3",
   "version": "3.8.10"
  }
 },
 "nbformat": 4,
 "nbformat_minor": 5
}
