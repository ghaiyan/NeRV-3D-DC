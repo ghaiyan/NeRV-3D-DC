{
 "cells": [
  {
   "cell_type": "code",
   "execution_count": 18,
   "id": "a8943dd6-5641-4f72-93a0-e3ee488290db",
   "metadata": {},
   "outputs": [
    {
     "name": "stdout",
     "output_type": "stream",
     "text": [
      "1181 1181\n"
     ]
    }
   ],
   "source": [
    "import numpy as np\n",
    "D = np.loadtxt(\"../GM12878/chr19_50kb/chr19_50000.dist\")\n",
    "xyz = np.loadtxt(\"../GM12878/chr19_50kb/structure/NeRV.xyz\")\n",
    "d = np.zeros((len(xyz), len(xyz)))\n",
    "for i in range(len(xyz)):\n",
    "    for j in range(len(xyz)):\n",
    "        if not np.isnan(xyz[i]).any() and not np.isnan(xyz[j]).any():\n",
    "            d[i,j]=np.sqrt(np.sum((xyz[i] - xyz[j])**2))\n",
    "\n",
    "print(len(D),len(d))"
   ]
  },
  {
   "cell_type": "code",
   "execution_count": 20,
   "id": "9644aab3",
   "metadata": {},
   "outputs": [
    {
     "data": {
      "text/plain": [
       "<Figure size 600x600 with 0 Axes>"
      ]
     },
     "metadata": {},
     "output_type": "display_data"
    },
    {
     "data": {
      "image/png": "[encoded data removed]",
      "text/plain": [
       "<Figure size 360x360 with 1 Axes>"
      ]
     },
     "metadata": {
      "needs_background": "light"
     },
     "output_type": "display_data"
    }
   ],
   "source": [
    "import pandas as pd\n",
    "import matplotlib.pyplot as plt\n",
    "import seaborn as sns\n",
    "\n",
    "df = pd.DataFrame({'x':D.reshape(-1),'y':d.reshape(-1)})\n",
    "\n",
    "plt.figure(figsize=(6,6),dpi=100)\n",
    "sns.lmplot(x=\"y\", y=\"x\", data=df,scatter_kws={\"s\": 100})\n",
    "plt.show()"
   ]
  },
  {
   "cell_type": "code",
   "execution_count": 4,
   "id": "28647cf2",
   "metadata": {},
   "outputs": [
    {
     "name": "stdout",
     "output_type": "stream",
     "text": [
      "           all      dist       tad\n",
      "all   1.000000  0.774215  0.803384\n",
      "dist  0.774215  1.000000  0.736618\n",
      "tad   0.803384  0.736618  1.000000\n",
      "           all      dist       tad\n",
      "all   1.000000  0.743284  0.789431\n",
      "dist  0.743284  1.000000  0.731424\n",
      "tad   0.789431  0.731424  1.000000\n"
     ]
    }
   ],
   "source": [
    "import numpy as np\n",
    "A = np.loadtxt(\"../IMR90/chr21/chr21_25000.dist\")\n",
    "x1 = np.loadtxt(\"./restad.xyz\")\n",
    "x2 = np.loadtxt(\"./resall.xyz\")\n",
    "\n",
    "d = np.zeros((len(x1), len(x1)))\n",
    "for i in range(len(x1)):\n",
    "    for j in range(len(x1)):\n",
    "        d[i,j]=np.sqrt(np.sum((x1[i] - x1[j])**2))\n",
    "\n",
    "D = np.zeros((len(x2), len(x2)))\n",
    "for i in range(len(x2)):\n",
    "    for j in range(len(x2)):\n",
    "        D[i,j]=np.sqrt(np.sum((x2[i] - x2[j])**2))\n",
    "\n",
    "import pandas as pd\n",
    "df = pd.DataFrame({'dist':A.reshape(-1),'tad':d.reshape(-1),'all':D.reshape(-1)})\n",
    "print(df.corr())\n",
    "print(df.corr('spearman'))"
   ]
  },
  {
   "cell_type": "code",
   "execution_count": 2,
   "id": "d096e303",
   "metadata": {},
   "outputs": [
    {
     "name": "stdout",
     "output_type": "stream",
     "text": [
      "         D        d\n",
      "D  1.00000  0.89375\n",
      "d  0.89375  1.00000\n",
      "          D         d\n",
      "D  1.000000  0.859586\n",
      "d  0.859586  1.000000\n"
     ]
    }
   ],
   "source": [
    "import pandas as pd\n",
    "df = pd.DataFrame({'D':D.reshape(-1),'d':d.reshape(-1)})\n",
    "print(df.corr())\n",
    "print(df.corr('spearman'))"
   ]
  },
  {
   "cell_type": "code",
   "execution_count": 17,
   "id": "1aced298-1612-474b-b2e1-0dcb9951113d",
   "metadata": {},
   "outputs": [
    {
     "name": "stdout",
     "output_type": "stream",
     "text": [
      "0.824243703322313\n"
     ]
    }
   ],
   "source": [
    "# dPCC\n",
    "import math\n",
    "\n",
    "D_ = np.mean(D)\n",
    "d_ = np.mean(d)\n",
    "# 分子\n",
    "num = 0\n",
    "# 分母\n",
    "den1 = 0\n",
    "den2 = 0\n",
    "for i in range(len(d)):\n",
    "    for j in range(len(d)):\n",
    "        num = num + ((d[i,j]-d_)*(D[i,j]-D_))\n",
    "        den1 = den1 + (d[i,j]-d_)**2\n",
    "        den2 = den2 + (D[i,j]-D_)**2\n",
    "\n",
    "den = math.sqrt(den1*den2)\n",
    "dPCC = num/den\n",
    "print(dPCC)"
   ]
  },
  {
   "cell_type": "code",
   "execution_count": 18,
   "id": "3957deb1-5502-406f-afcc-8213f9a87fd3",
   "metadata": {},
   "outputs": [
    {
     "name": "stdout",
     "output_type": "stream",
     "text": [
      "0.5037416161551755\n"
     ]
    }
   ],
   "source": [
    "# dSCC\n",
    "import math\n",
    "\n",
    "X = np.argsort(d)\n",
    "Y = np.argsort(D)\n",
    "X_ = np.mean(X)\n",
    "Y_ = np.mean(Y)\n",
    "\n",
    "# 分子\n",
    "num = 0\n",
    "# 分母\n",
    "den1 = 0\n",
    "den2 = 0\n",
    "for i in range(len(X)):\n",
    "    for j in range(len(X)):\n",
    "        num = num + ((X[i,j]-X_)*(Y[i,j]-Y_))\n",
    "        den1 = den1 + (X[i,j]-X_)**2\n",
    "        den2 = den2 + (Y[i,j]-Y_)**2\n",
    "\n",
    "den = math.sqrt(den1*den2)\n",
    "dSCC = num/den\n",
    "print(dSCC)\n"
   ]
  },
  {
   "cell_type": "code",
   "execution_count": 3,
   "id": "736eaf6a-5103-4eb4-a82b-082f7617460a",
   "metadata": {},
   "outputs": [
    {
     "name": "stdout",
     "output_type": "stream",
     "text": [
      "0.22195201066608142\n"
     ]
    }
   ],
   "source": [
    "# dRMSE\n",
    "import math\n",
    "def calcDistance(coord1, coord2):\n",
    "    \"\"\"Euclidean distance between coordinates\"\"\"\n",
    "    return ((coord1[0] - coord2[0])**2 + (coord1[1] - coord2[1])**2 +  (coord1[2] - coord2[2])**2)**(1./2)\n",
    "\n",
    "def radius_of_gyration(coords):\n",
    "    centroid = np.mean(coords, axis=0)\n",
    "    dist_sum = sum([calcDistance(coord, centroid) for coord in coords])\n",
    "    return dist_sum/len(coords)\n",
    "\n",
    "scaling_factor = radius_of_gyration(D)/radius_of_gyration(d)\n",
    "drms = 0\n",
    "for i in range(len(D)):\n",
    "    for j in range(len(d)):\n",
    "        drms = drms + (d[i,j] * scaling_factor-D[i,j])**2\n",
    "drms = drms / (len(D)**2)\n",
    "drms = math.sqrt(drms)\n",
    "print(drms)\n"
   ]
  }
 ],
 "metadata": {
  "kernelspec": {
   "display_name": "biye",
   "language": "python",
   "name": "biye"
  },
  "language_info": {
   "codemirror_mode": {
    "name": "ipython",
    "version": 3
   },
   "file_extension": ".py",
   "mimetype": "text/x-python",
   "name": "python",
   "nbconvert_exporter": "python",
   "pygments_lexer": "ipython3",
   "version": "3.6.15"
  }
 },
 "nbformat": 4,
 "nbformat_minor": 5
}
