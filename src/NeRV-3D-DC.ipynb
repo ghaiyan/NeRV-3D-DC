{
 "cells": [
  {
   "cell_type": "code",
   "execution_count": 1,
   "metadata": {},
   "outputs": [],
   "source": [
    "import numpy as np\n",
    "#generate the mapping file of local loci and general locis\n",
    "# matrix = np.loadtxt(\"../GM12878/chr21_5kb/chr21_5000.dist\")\n",
    "dir=\"/home/yangyi/study/biye\"\n",
    "mappingdir=\"/data1/ghy_data/IMR90/3DResults/NeRV-3D-DV/25000/\"\n",
    "matrix = np.loadtxt(dir+\"/IMR90/chr21/chr21_25000.dist\")\n",
    "j = 0\n",
    "data_index=[]\n",
    "with open(mappingdir+\"mapping.txt\", \"w\") as out:\n",
    "    for i in range(len(matrix)):\n",
    "        if not (matrix[i] == 0).all():\n",
    "            out.write(\"\\t\".join((str(i),str(j))) + \"\\n\")\n",
    "            data_index.append(i)\n",
    "            j = j + 1\n",
    "        else:\n",
    "            out.write(\"\\t\".join((str(i),'nan')) + \"\\n\")\n",
    "l = len(data_index)\n",
    "data = np.zeros((l,l))\n",
    "for i in range(l):\n",
    "    for j in range(l):\n",
    "        data[i,j] = matrix[data_index[i],data_index[j]]\n",
    "\n",
    "np.savetxt(\"data.txt\",data)\n",
    "data = np.loadtxt(\"data.txt\")"
   ]
  },
  {
   "cell_type": "code",
   "execution_count": 2,
   "metadata": {},
   "outputs": [],
   "source": [
    "# overlap = np.zeros((int(len(data)/10+1),int(len(data)/10+1)))\n",
    "# for i in range(0,len(data),10):\n",
    "#     for j in range(0,len(data),10):\n",
    "#         overlap[int(i/10),int(j/10)] = np.nanmean(data[i:i+10,j:j+10])\n",
    "#generate the global distance file in low reslotion\n",
    "overlap=data[::10,::10]\n",
    "file = mappingdir+\"genernal.txt\"\n",
    "with open(file, \"w\") as out:\n",
    "    out.write(str(len(overlap)) + \"\\n\")\n",
    "    for i in range(len(overlap)):\n",
    "        out.write(\"\\t\".join(str(item) for item in overlap[i]) + \"\\n\")\n",
    "    out.close()"
   ]
  },
  {
   "cell_type": "code",
   "execution_count": 3,
   "metadata": {},
   "outputs": [],
   "source": [
    "import math\n",
    "def get_tads(id):\n",
    "\n",
    "    # 域内的点,每个子域有100个点\n",
    "    start = id *100\n",
    "    end = (id + 1) *100\n",
    "\n",
    "    if end > len(data):\n",
    "        end = len(data)\n",
    "    # 用于输入的文件\n",
    "    file =mappingdir+ \"tad{}.txt\".format(id)\n",
    "    with open(file, \"w\") as out:\n",
    "        out.write(str(end - start) + \"\\n\")\n",
    "        for i in range(start,end):\n",
    "            out.write(\"\\t\".join(str(item) for item in data[i,start:end]) + \"\\n\")\n",
    "        out.close()\n",
    "\n",
    "for i in range(math.ceil(len(data)/100)):\n",
    "    get_tads(i)"
   ]
  },
  {
   "cell_type": "code",
   "execution_count": 20,
   "metadata": {},
   "outputs": [
    {
     "name": "stderr",
     "output_type": "stream",
     "text": [
      "/home/yangyi/anaconda3/envs/biye/lib/python3.6/site-packages/scipy/spatial/transform/rotation.py:1967: UserWarning: Optimal rotation is not uniquely or poorly defined for the given sets of vectors.\n",
      "  warnings.warn(\"Optimal rotation is not uniquely or poorly defined \"\n"
     ]
    }
   ],
   "source": [
    "import numpy as np\n",
    "import math\n",
    "from scipy.spatial.transform import Rotation as R\n",
    "#执行之前，需要test.sh,用NeRV-3D计算每个TADs结构\n",
    "genernal = np.loadtxt(mappingdir+\"genernal.xyz\", skiprows=1)\n",
    "with open(\"res.xyz\", \"w\") as out:\n",
    "    for i in range(math.ceil(len(genernal) / 10)):\n",
    "        file = \"../IMR90/chr22_5kb/structure/strtad{}.xyz\".format(i)\n",
    "        tad = np.loadtxt(file, skiprows=1)\n",
    "        inferredLow = np.zeros((math.ceil(len(tad) / 10),3))\n",
    "        for j in range(math.ceil(len(tad) / 10)):\n",
    "            inferredLow[j] = np.mean(tad[j*10:j*10+10,])\n",
    "        trueLow = genernal[i*10:i*10+10,]\n",
    "\n",
    "        # center\n",
    "        trueLow = trueLow - np.mean(trueLow, axis=0)\n",
    "        inferredLow = inferredLow - np.mean(inferredLow, axis=0)\n",
    "\n",
    "        #rescale\n",
    "        true_sum = sum([np.sqrt(np.sum(coord**2)) for coord in trueLow])\n",
    "        inferred_sum = sum([np.sqrt(np.sum(coord**2)) for coord in inferredLow])\n",
    "        scaling_factor = true_sum / inferred_sum\n",
    "        inferredLow = inferredLow * scaling_factor\n",
    "\n",
    "        # rotate\n",
    "        estimated_rotation, rmsd = R.align_vectors(trueLow,inferredLow)\n",
    "        a_transformed = estimated_rotation.apply(tad)\n",
    "        a_transformed = a_transformed - np.mean(a_transformed, axis=0)\n",
    "        true_sum = np.mean([np.sqrt(np.sum(coord**2)) for coord in trueLow])\n",
    "        inferred_sum = np.mean([np.sqrt(np.sum(coord**2)) for coord in a_transformed])\n",
    "        scaling_factor = true_sum / inferred_sum\n",
    "        a_transformed = a_transformed * scaling_factor\n",
    "        a_transformed = a_transformed + np.mean(genernal[i*10:i*10+10,], axis=0)\n",
    "        for j in range(len(a_transformed)):\n",
    "            out.write(\"\\t\".join(str(item) for item in a_transformed[j]) + \"\\n\")\n",
    "    out.close()"
   ]
  },
  {
   "cell_type": "code",
   "execution_count": 2,
   "metadata": {},
   "outputs": [
    {
     "ename": "IndexError",
     "evalue": "index 11100 is out of bounds for axis 0 with size 11100",
     "output_type": "error",
     "traceback": [
      "\u001b[0;31m---------------------------------------------------------------------------\u001b[0m",
      "\u001b[0;31mIndexError\u001b[0m                                Traceback (most recent call last)",
      "\u001b[1;32m/home/ghaiyan/project/NeRV-3D/src/NeRV-3D-DC.ipynb Cell 5'\u001b[0m in \u001b[0;36m<module>\u001b[0;34m\u001b[0m\n\u001b[1;32m      <a href='vscode-notebook-cell://ssh-remote%2Bghaiyan/home/ghaiyan/project/NeRV-3D/src/NeRV-3D-DC.ipynb#ch0000004vscode-remote?line=7'>8</a>\u001b[0m     out\u001b[39m.\u001b[39mwrite(\u001b[39m\"\u001b[39m\u001b[39m\\t\u001b[39;00m\u001b[39m\"\u001b[39m\u001b[39m.\u001b[39mjoin((\u001b[39m\"\u001b[39m\u001b[39mnan\u001b[39m\u001b[39m\"\u001b[39m, \u001b[39m\"\u001b[39m\u001b[39mnan\u001b[39m\u001b[39m\"\u001b[39m, \u001b[39m\"\u001b[39m\u001b[39mnan\u001b[39m\u001b[39m\"\u001b[39m)) \u001b[39m+\u001b[39m \u001b[39m\"\u001b[39m\u001b[39m\\n\u001b[39;00m\u001b[39m\"\u001b[39m)\n\u001b[1;32m      <a href='vscode-notebook-cell://ssh-remote%2Bghaiyan/home/ghaiyan/project/NeRV-3D/src/NeRV-3D-DC.ipynb#ch0000004vscode-remote?line=8'>9</a>\u001b[0m \u001b[39melse\u001b[39;00m:\n\u001b[0;32m---> <a href='vscode-notebook-cell://ssh-remote%2Bghaiyan/home/ghaiyan/project/NeRV-3D/src/NeRV-3D-DC.ipynb#ch0000004vscode-remote?line=9'>10</a>\u001b[0m     out\u001b[39m.\u001b[39mwrite(\u001b[39m\"\u001b[39m\u001b[39m\\t\u001b[39;00m\u001b[39m\"\u001b[39m\u001b[39m.\u001b[39mjoin(\u001b[39mstr\u001b[39m(item) \u001b[39mfor\u001b[39;00m item \u001b[39min\u001b[39;00m xyz[\u001b[39mint\u001b[39;49m(\u001b[39mmap\u001b[39;49m[i,\u001b[39m1\u001b[39;49m])]) \u001b[39m+\u001b[39m \u001b[39m\"\u001b[39m\u001b[39m\\n\u001b[39;00m\u001b[39m\"\u001b[39m)\n",
      "\u001b[0;31mIndexError\u001b[0m: index 11100 is out of bounds for axis 0 with size 11100"
     ]
    }
   ],
   "source": [
    "import numpy as np\n",
    "map = np.loadtxt(\"/data1/ghy_data/GM12878/3DResults/NeRV-3D-DV/chr19_5kb/mapping.txt\")\n",
    "xyz = np.loadtxt(\"/data1/ghy_data/GM12878/3DResults/NeRV-3D-DV/chr19_5kb/highres.xyz\")\n",
    "\n",
    "with open(\"/data1/ghy_data/GM12878/3DResults/NeRV-3D-DV/chr19_5kb/highresplusnan.xyz\", \"w\") as out:\n",
    "    for i in range(len(map)):\n",
    "        if np.isnan(map[i,1]):\n",
    "            out.write(\"\\t\".join((\"nan\", \"nan\", \"nan\")) + \"\\n\")\n",
    "        else:\n",
    "            out.write(\"\\t\".join(str(item) for item in xyz[int(map[i,1])]) + \"\\n\")\n"
   ]
  },
  {
   "cell_type": "code",
   "execution_count": 19,
   "metadata": {},
   "outputs": [],
   "source": [
    "import numpy as np\n",
    "\n",
    "xyz = np.loadtxt(\"restad.xyz\")\n",
    "# xyz = np.loadtxt(\"../IMR90/chr22_5kb/structure/genernal.xyz\", skiprows=1)\n",
    "res = 25\n",
    "tad = np.loadtxt(\"../GM12878/chr21_5kb/tads.txt\", dtype=int)\n",
    "\n",
    "\n",
    "outpath = \"test.xyz\"\n",
    "with open(outpath, \"w\") as out:\n",
    "    for i in range(len(tad)):\n",
    "        start = int( tad[i,1] / res / 1000 )\n",
    "        end = int( tad[i,3] / res / 1000 )\n",
    "        for j in range(start,end+1):\n",
    "            if j<len(xyz) and not np.isnan(xyz[j,0]):\n",
    "                out.write(\"[{},{},{},{}],\".format(str(xyz[j,0]),str(xyz[j,1]),str(xyz[j,2]),str(i)) + \"\\n\")\n",
    "    out.close()"
   ]
  }
 ],
 "metadata": {
  "interpreter": {
   "hash": "5a8d2d47ee014e87619e29fccde47e3d8c87eb0eb9dc4d26a27b6a1b91993c7d"
  },
  "kernelspec": {
   "display_name": "Python 3.6.15 ('biye')",
   "language": "python",
   "name": "python3"
  },
  "language_info": {
   "codemirror_mode": {
    "name": "ipython",
    "version": 3
   },
   "file_extension": ".py",
   "mimetype": "text/x-python",
   "name": "python",
   "nbconvert_exporter": "python",
   "pygments_lexer": "ipython3",
   "version": "3.8.10"
  },
  "orig_nbformat": 4
 },
 "nbformat": 4,
 "nbformat_minor": 2
}
